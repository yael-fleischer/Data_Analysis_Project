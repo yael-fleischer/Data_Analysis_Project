{
 "cells": [
  {
   "cell_type": "code",
   "execution_count": 399,
   "metadata": {},
   "outputs": [],
   "source": [
    "import pandas as pd\n",
    "import math\n",
    "import numpy as np\n",
    "import matplotlib.pyplot as plt\n",
    "import seaborn as sns \n",
    "import scipy.stats as st\n",
    "import warnings\n",
    "import matplotlib.pyplot as plt\n",
    "\n",
    "%matplotlib inline\n",
    "\n"
   ]
  },
  {
   "attachments": {},
   "cell_type": "markdown",
   "metadata": {},
   "source": [
    "# Introduction\n",
    "___"
   ]
  },
  {
   "attachments": {},
   "cell_type": "markdown",
   "metadata": {},
   "source": [
    "Maslow's hierarchy of needs provides a theoretical framework for understanding the various levels of human needs and their influence on individual well-being. This study seeks to explore the impact of corruption perception (scenario 2) and GDP (scenario 3) on happiness levels in European and African countries, using Maslow's hierarchy as a guiding perspective.\n",
    "\n",
    "According to Maslow's theory, once basic physiological and safety needs are met, individuals focus on higher-level needs such as social belonging, esteem, and self-actualization. In light of this, it is hypothesized that in European countries, where these higher-level needs may be more prominent, the perception of corruption may have a greater negative effect on happiness. Conversely, in African countries, where basic needs may be more salient, the influence of GDP on happiness levels may be more significant."
   ]
  },
  {
   "attachments": {},
   "cell_type": "markdown",
   "metadata": {},
   "source": [
    "1. We try to determine if there is a statistically significant difference in the level of happiness between European countries and African countries, using a significance level of α = 0.05.\n",
    "Null Hypothesis: There is no statistically significant difference in the level of happiness between European and African countries (μE - μA = 0).\n",
    "Alternative Hypothesis: The level of happiness in European countries is statistically significantly greater than in African countries (μE - μA > 0).\n",
    "\n",
    "2. We try to determine if there is a statistically significant difference in the effect of the perception of corruption on the happiness score between European countries and African countries, using a significance level of α = 0.05.\n",
    "Null Hypothesis: There is no statistically significant difference in the effect of the perception of corruption on the happiness score between European countries and African countries. (μE - μA = 0)\n",
    "Alternative Hypothesis: In European countries, there is a greater effect of the perception of corruption on the happiness score compared to African countries. (μE - μA > 0) \n",
    "\n",
    "3. We try to determine if there is a statistically significant difference in the effect of the GDP index (gross domestic product) on the happiness index between African countries and European countries, using a significance level of α = 0.05.\n",
    "Null Hypothesis: There is no statistically significant difference in the effect of the GDP index on the happiness index between African countries and European countries.\n",
    " (μE - μA = 0)\n",
    "Alternative Hypothesis: In European countries, there is a lower effect of the GDP index on the happiness score compared to African countries. (μA - μE > 0)\n"
   ]
  },
  {
   "attachments": {},
   "cell_type": "markdown",
   "metadata": {},
   "source": [
    "# Data exploration\n",
    "___"
   ]
  },
  {
   "attachments": {},
   "cell_type": "markdown",
   "metadata": {},
   "source": [
    "Loading the data:"
   ]
  },
  {
   "cell_type": "code",
   "execution_count": 400,
   "metadata": {},
   "outputs": [
    {
     "data": {
      "text/html": [
       "<div>\n",
       "<style scoped>\n",
       "    .dataframe tbody tr th:only-of-type {\n",
       "        vertical-align: middle;\n",
       "    }\n",
       "\n",
       "    .dataframe tbody tr th {\n",
       "        vertical-align: top;\n",
       "    }\n",
       "\n",
       "    .dataframe thead th {\n",
       "        text-align: right;\n",
       "    }\n",
       "</style>\n",
       "<table border=\"1\" class=\"dataframe\">\n",
       "  <thead>\n",
       "    <tr style=\"text-align: right;\">\n",
       "      <th></th>\n",
       "      <th>Overall rank</th>\n",
       "      <th>Country or region</th>\n",
       "      <th>Score</th>\n",
       "      <th>GDP per capita</th>\n",
       "      <th>Social support</th>\n",
       "      <th>Healthy life expectancy</th>\n",
       "      <th>Freedom to make life choices</th>\n",
       "      <th>Generosity</th>\n",
       "      <th>Perceptions of corruption</th>\n",
       "    </tr>\n",
       "  </thead>\n",
       "  <tbody>\n",
       "    <tr>\n",
       "      <th>0</th>\n",
       "      <td>1</td>\n",
       "      <td>Finland</td>\n",
       "      <td>7.769</td>\n",
       "      <td>1.340</td>\n",
       "      <td>1.587</td>\n",
       "      <td>0.986</td>\n",
       "      <td>0.596</td>\n",
       "      <td>0.153</td>\n",
       "      <td>0.393</td>\n",
       "    </tr>\n",
       "    <tr>\n",
       "      <th>1</th>\n",
       "      <td>2</td>\n",
       "      <td>Denmark</td>\n",
       "      <td>7.600</td>\n",
       "      <td>1.383</td>\n",
       "      <td>1.573</td>\n",
       "      <td>0.996</td>\n",
       "      <td>0.592</td>\n",
       "      <td>0.252</td>\n",
       "      <td>0.410</td>\n",
       "    </tr>\n",
       "    <tr>\n",
       "      <th>2</th>\n",
       "      <td>3</td>\n",
       "      <td>Norway</td>\n",
       "      <td>7.554</td>\n",
       "      <td>1.488</td>\n",
       "      <td>1.582</td>\n",
       "      <td>1.028</td>\n",
       "      <td>0.603</td>\n",
       "      <td>0.271</td>\n",
       "      <td>0.341</td>\n",
       "    </tr>\n",
       "    <tr>\n",
       "      <th>3</th>\n",
       "      <td>4</td>\n",
       "      <td>Iceland</td>\n",
       "      <td>7.494</td>\n",
       "      <td>1.380</td>\n",
       "      <td>1.624</td>\n",
       "      <td>1.026</td>\n",
       "      <td>0.591</td>\n",
       "      <td>0.354</td>\n",
       "      <td>0.118</td>\n",
       "    </tr>\n",
       "    <tr>\n",
       "      <th>4</th>\n",
       "      <td>5</td>\n",
       "      <td>Netherlands</td>\n",
       "      <td>7.488</td>\n",
       "      <td>1.396</td>\n",
       "      <td>1.522</td>\n",
       "      <td>0.999</td>\n",
       "      <td>0.557</td>\n",
       "      <td>0.322</td>\n",
       "      <td>0.298</td>\n",
       "    </tr>\n",
       "    <tr>\n",
       "      <th>5</th>\n",
       "      <td>6</td>\n",
       "      <td>Switzerland</td>\n",
       "      <td>7.480</td>\n",
       "      <td>1.452</td>\n",
       "      <td>1.526</td>\n",
       "      <td>1.052</td>\n",
       "      <td>0.572</td>\n",
       "      <td>0.263</td>\n",
       "      <td>0.343</td>\n",
       "    </tr>\n",
       "    <tr>\n",
       "      <th>6</th>\n",
       "      <td>7</td>\n",
       "      <td>Sweden</td>\n",
       "      <td>7.343</td>\n",
       "      <td>1.387</td>\n",
       "      <td>1.487</td>\n",
       "      <td>1.009</td>\n",
       "      <td>0.574</td>\n",
       "      <td>0.267</td>\n",
       "      <td>0.373</td>\n",
       "    </tr>\n",
       "    <tr>\n",
       "      <th>7</th>\n",
       "      <td>8</td>\n",
       "      <td>New Zealand</td>\n",
       "      <td>7.307</td>\n",
       "      <td>1.303</td>\n",
       "      <td>1.557</td>\n",
       "      <td>1.026</td>\n",
       "      <td>0.585</td>\n",
       "      <td>0.330</td>\n",
       "      <td>0.380</td>\n",
       "    </tr>\n",
       "    <tr>\n",
       "      <th>8</th>\n",
       "      <td>9</td>\n",
       "      <td>Canada</td>\n",
       "      <td>7.278</td>\n",
       "      <td>1.365</td>\n",
       "      <td>1.505</td>\n",
       "      <td>1.039</td>\n",
       "      <td>0.584</td>\n",
       "      <td>0.285</td>\n",
       "      <td>0.308</td>\n",
       "    </tr>\n",
       "    <tr>\n",
       "      <th>9</th>\n",
       "      <td>10</td>\n",
       "      <td>Austria</td>\n",
       "      <td>7.246</td>\n",
       "      <td>1.376</td>\n",
       "      <td>1.475</td>\n",
       "      <td>1.016</td>\n",
       "      <td>0.532</td>\n",
       "      <td>0.244</td>\n",
       "      <td>0.226</td>\n",
       "    </tr>\n",
       "    <tr>\n",
       "      <th>10</th>\n",
       "      <td>11</td>\n",
       "      <td>Australia</td>\n",
       "      <td>7.228</td>\n",
       "      <td>1.372</td>\n",
       "      <td>1.548</td>\n",
       "      <td>1.036</td>\n",
       "      <td>0.557</td>\n",
       "      <td>0.332</td>\n",
       "      <td>0.290</td>\n",
       "    </tr>\n",
       "    <tr>\n",
       "      <th>11</th>\n",
       "      <td>12</td>\n",
       "      <td>Costa Rica</td>\n",
       "      <td>7.167</td>\n",
       "      <td>1.034</td>\n",
       "      <td>1.441</td>\n",
       "      <td>0.963</td>\n",
       "      <td>0.558</td>\n",
       "      <td>0.144</td>\n",
       "      <td>0.093</td>\n",
       "    </tr>\n",
       "    <tr>\n",
       "      <th>12</th>\n",
       "      <td>13</td>\n",
       "      <td>Israel</td>\n",
       "      <td>7.139</td>\n",
       "      <td>1.276</td>\n",
       "      <td>1.455</td>\n",
       "      <td>1.029</td>\n",
       "      <td>0.371</td>\n",
       "      <td>0.261</td>\n",
       "      <td>0.082</td>\n",
       "    </tr>\n",
       "    <tr>\n",
       "      <th>13</th>\n",
       "      <td>14</td>\n",
       "      <td>Luxembourg</td>\n",
       "      <td>7.090</td>\n",
       "      <td>1.609</td>\n",
       "      <td>1.479</td>\n",
       "      <td>1.012</td>\n",
       "      <td>0.526</td>\n",
       "      <td>0.194</td>\n",
       "      <td>0.316</td>\n",
       "    </tr>\n",
       "    <tr>\n",
       "      <th>14</th>\n",
       "      <td>15</td>\n",
       "      <td>United Kingdom</td>\n",
       "      <td>7.054</td>\n",
       "      <td>1.333</td>\n",
       "      <td>1.538</td>\n",
       "      <td>0.996</td>\n",
       "      <td>0.450</td>\n",
       "      <td>0.348</td>\n",
       "      <td>0.278</td>\n",
       "    </tr>\n",
       "    <tr>\n",
       "      <th>15</th>\n",
       "      <td>16</td>\n",
       "      <td>Ireland</td>\n",
       "      <td>7.021</td>\n",
       "      <td>1.499</td>\n",
       "      <td>1.553</td>\n",
       "      <td>0.999</td>\n",
       "      <td>0.516</td>\n",
       "      <td>0.298</td>\n",
       "      <td>0.310</td>\n",
       "    </tr>\n",
       "    <tr>\n",
       "      <th>16</th>\n",
       "      <td>17</td>\n",
       "      <td>Germany</td>\n",
       "      <td>6.985</td>\n",
       "      <td>1.373</td>\n",
       "      <td>1.454</td>\n",
       "      <td>0.987</td>\n",
       "      <td>0.495</td>\n",
       "      <td>0.261</td>\n",
       "      <td>0.265</td>\n",
       "    </tr>\n",
       "    <tr>\n",
       "      <th>17</th>\n",
       "      <td>18</td>\n",
       "      <td>Belgium</td>\n",
       "      <td>6.923</td>\n",
       "      <td>1.356</td>\n",
       "      <td>1.504</td>\n",
       "      <td>0.986</td>\n",
       "      <td>0.473</td>\n",
       "      <td>0.160</td>\n",
       "      <td>0.210</td>\n",
       "    </tr>\n",
       "    <tr>\n",
       "      <th>18</th>\n",
       "      <td>19</td>\n",
       "      <td>United States</td>\n",
       "      <td>6.892</td>\n",
       "      <td>1.433</td>\n",
       "      <td>1.457</td>\n",
       "      <td>0.874</td>\n",
       "      <td>0.454</td>\n",
       "      <td>0.280</td>\n",
       "      <td>0.128</td>\n",
       "    </tr>\n",
       "    <tr>\n",
       "      <th>19</th>\n",
       "      <td>20</td>\n",
       "      <td>Czech Republic</td>\n",
       "      <td>6.852</td>\n",
       "      <td>1.269</td>\n",
       "      <td>1.487</td>\n",
       "      <td>0.920</td>\n",
       "      <td>0.457</td>\n",
       "      <td>0.046</td>\n",
       "      <td>0.036</td>\n",
       "    </tr>\n",
       "  </tbody>\n",
       "</table>\n",
       "</div>"
      ],
      "text/plain": [
       "    Overall rank Country or region  Score  GDP per capita  Social support  \\\n",
       "0              1           Finland  7.769           1.340           1.587   \n",
       "1              2           Denmark  7.600           1.383           1.573   \n",
       "2              3            Norway  7.554           1.488           1.582   \n",
       "3              4           Iceland  7.494           1.380           1.624   \n",
       "4              5       Netherlands  7.488           1.396           1.522   \n",
       "5              6       Switzerland  7.480           1.452           1.526   \n",
       "6              7            Sweden  7.343           1.387           1.487   \n",
       "7              8       New Zealand  7.307           1.303           1.557   \n",
       "8              9            Canada  7.278           1.365           1.505   \n",
       "9             10           Austria  7.246           1.376           1.475   \n",
       "10            11         Australia  7.228           1.372           1.548   \n",
       "11            12        Costa Rica  7.167           1.034           1.441   \n",
       "12            13            Israel  7.139           1.276           1.455   \n",
       "13            14        Luxembourg  7.090           1.609           1.479   \n",
       "14            15    United Kingdom  7.054           1.333           1.538   \n",
       "15            16           Ireland  7.021           1.499           1.553   \n",
       "16            17           Germany  6.985           1.373           1.454   \n",
       "17            18           Belgium  6.923           1.356           1.504   \n",
       "18            19     United States  6.892           1.433           1.457   \n",
       "19            20    Czech Republic  6.852           1.269           1.487   \n",
       "\n",
       "    Healthy life expectancy  Freedom to make life choices  Generosity  \\\n",
       "0                     0.986                         0.596       0.153   \n",
       "1                     0.996                         0.592       0.252   \n",
       "2                     1.028                         0.603       0.271   \n",
       "3                     1.026                         0.591       0.354   \n",
       "4                     0.999                         0.557       0.322   \n",
       "5                     1.052                         0.572       0.263   \n",
       "6                     1.009                         0.574       0.267   \n",
       "7                     1.026                         0.585       0.330   \n",
       "8                     1.039                         0.584       0.285   \n",
       "9                     1.016                         0.532       0.244   \n",
       "10                    1.036                         0.557       0.332   \n",
       "11                    0.963                         0.558       0.144   \n",
       "12                    1.029                         0.371       0.261   \n",
       "13                    1.012                         0.526       0.194   \n",
       "14                    0.996                         0.450       0.348   \n",
       "15                    0.999                         0.516       0.298   \n",
       "16                    0.987                         0.495       0.261   \n",
       "17                    0.986                         0.473       0.160   \n",
       "18                    0.874                         0.454       0.280   \n",
       "19                    0.920                         0.457       0.046   \n",
       "\n",
       "    Perceptions of corruption  \n",
       "0                       0.393  \n",
       "1                       0.410  \n",
       "2                       0.341  \n",
       "3                       0.118  \n",
       "4                       0.298  \n",
       "5                       0.343  \n",
       "6                       0.373  \n",
       "7                       0.380  \n",
       "8                       0.308  \n",
       "9                       0.226  \n",
       "10                      0.290  \n",
       "11                      0.093  \n",
       "12                      0.082  \n",
       "13                      0.316  \n",
       "14                      0.278  \n",
       "15                      0.310  \n",
       "16                      0.265  \n",
       "17                      0.210  \n",
       "18                      0.128  \n",
       "19                      0.036  "
      ]
     },
     "execution_count": 400,
     "metadata": {},
     "output_type": "execute_result"
    }
   ],
   "source": [
    "data = pd.read_csv(\"World_Happiness_Report_2019.csv\")\n",
    "\n",
    "pd.set_option('display.max_columns',None)\n",
    "\n",
    "data.head(20)"
   ]
  },
  {
   "cell_type": "code",
   "execution_count": 401,
   "metadata": {},
   "outputs": [
    {
     "data": {
      "text/plain": [
       "(156, 9)"
      ]
     },
     "execution_count": 401,
     "metadata": {},
     "output_type": "execute_result"
    }
   ],
   "source": [
    "data.shape"
   ]
  },
  {
   "attachments": {},
   "cell_type": "markdown",
   "metadata": {},
   "source": [
    "Checking Null Values"
   ]
  },
  {
   "cell_type": "code",
   "execution_count": 402,
   "metadata": {},
   "outputs": [
    {
     "data": {
      "text/plain": [
       "Overall rank                    0\n",
       "Country or region               0\n",
       "Score                           0\n",
       "GDP per capita                  0\n",
       "Social support                  0\n",
       "Healthy life expectancy         0\n",
       "Freedom to make life choices    0\n",
       "Generosity                      0\n",
       "Perceptions of corruption       0\n",
       "dtype: int64"
      ]
     },
     "execution_count": 402,
     "metadata": {},
     "output_type": "execute_result"
    }
   ],
   "source": [
    "data.isnull().sum() "
   ]
  },
  {
   "attachments": {},
   "cell_type": "markdown",
   "metadata": {},
   "source": [
    "Checking Values type"
   ]
  },
  {
   "cell_type": "code",
   "execution_count": 403,
   "metadata": {},
   "outputs": [
    {
     "data": {
      "text/plain": [
       "Overall rank                      int64\n",
       "Country or region                object\n",
       "Score                           float64\n",
       "GDP per capita                  float64\n",
       "Social support                  float64\n",
       "Healthy life expectancy         float64\n",
       "Freedom to make life choices    float64\n",
       "Generosity                      float64\n",
       "Perceptions of corruption       float64\n",
       "dtype: object"
      ]
     },
     "execution_count": 403,
     "metadata": {},
     "output_type": "execute_result"
    }
   ],
   "source": [
    "data.dtypes"
   ]
  },
  {
   "attachments": {},
   "cell_type": "markdown",
   "metadata": {},
   "source": [
    "<h3>Conclusions</h3>\n",
    "As we can see, wa have 156 rows (observations) and 9 features. All features but the \"Country or region\" are numeric from type float64 or int64. Accordingly, we won't have to make any type changes to explore or manipulate the data. We know that all the countries and regions names in this data are unique, which means each of them appears in the data only once.  "
   ]
  },
  {
   "attachments": {},
   "cell_type": "markdown",
   "metadata": {},
   "source": [
    "<h3>About the Data</h3>"
   ]
  },
  {
   "attachments": {},
   "cell_type": "markdown",
   "metadata": {},
   "source": [
    "The World Happiness Report contains nine features. The \"Overall rank\" feature represents the unique ranking of countries based on their happiness scores. The overall rank column typically assigns a numerical rank to each country, indicating their relative position in the happiness rankings.<br><br>\n",
    "\n",
    "The \"Country or region\" feature represents the country or region the data in each column refers to, and the \"score\" feature is the Happiness score. The Happiness Score is a metric that was measured in 2019 by asking the sampled people the following question: \"How would you rate your happiness on a scale of 0 to 10 where 10 is the happiest.\"<br><br>\n",
    "\n",
    "The six other features in this data represent the extent to which each feature contributes to the calculation of the Happiness Score.<br>\n",
    "Below, there is an explanation of each feature and what it meant in its original form:\n",
    "\n",
    "- <b>GDP per capita</b> - GDP per capita is a measure of a country's economic output that accounts for its number of people.<br><br>\n",
    "- <b>Social support</b> - Social support means having friends and other people, including family, to turn to in times of need or crisis to give you a broader focus and positive self-image. Social support enhances the quality of life and provides a buffer against adverse life events.<br><br>\n",
    "- <b>Healthy life expectancy</b> - Healthy Life Expectancy is the average number of years that a newborn can expect to live in \"full health\"—in other words, not hampered by disabling illnesses or injuries.<br><br>\n",
    "- <b>Freedom to make life choices</b> - Freedom of choice describes an individual's opportunity and autonomy to perform an action selected from at least two available options, unconstrained by external parties.<br><br>\n",
    "- <b>Generosity</b> - the quality of being kind and generous.<br><br>\n",
    "- <b>Perceptions of corruption</b> - The Corruption Perceptions Index (CPI) is an index published annually by Transparency International since 1995 which ranks countries \"by their perceived levels of public sector corruption, as determined by expert assessments and opinion surveys."
   ]
  },
  {
   "attachments": {},
   "cell_type": "markdown",
   "metadata": {},
   "source": [
    "Below are the distributions of all the numeric features from an overall view of all the countries in the data sets we were given and their descriptive data:"
   ]
  },
  {
   "cell_type": "code",
   "execution_count": 404,
   "metadata": {},
   "outputs": [
    {
     "name": "stdout",
     "output_type": "stream",
     "text": [
      "Y-axis = Amount of countries\n",
      "X-axis = Value\n"
     ]
    },
    {
     "data": {
      "image/png": "[encoded data removed]",
      "text/plain": [
       "<Figure size 864x576 with 9 Axes>"
      ]
     },
     "metadata": {
      "needs_background": "light"
     },
     "output_type": "display_data"
    }
   ],
   "source": [
    "print(\"Y-axis = Amount of countries\")\n",
    "print(\"X-axis = Value\")\n",
    "ax = data.hist(bins=20, grid=False, figsize=(12,8), color='#86bf91', zorder=2, rwidth=0.9)\n",
    "\n",
    "ax = ax[0]\n",
    "for x in ax:\n",
    "\n",
    "    # Despine\n",
    "    x.spines['right'].set_visible(False)\n",
    "    x.spines['top'].set_visible(False)\n",
    "    x.spines['left'].set_visible(False)\n",
    "\n",
    "    # Switch off ticks\n",
    "    x.tick_params(axis=\"both\", which=\"both\", bottom=\"off\", top=\"off\", labelbottom=\"on\", left=\"off\", right=\"off\", labelleft=\"on\")\n",
    "\n",
    "    # Draw horizontal axis lines\n",
    "    vals = x.get_yticks()\n",
    "    for tick in vals:\n",
    "        x.axhline(y=tick, linestyle='dashed', alpha=0.4, color='#eeeeee', zorder=1)"
   ]
  },
  {
   "cell_type": "code",
   "execution_count": 405,
   "metadata": {},
   "outputs": [
    {
     "data": {
      "text/html": [
       "<div>\n",
       "<style scoped>\n",
       "    .dataframe tbody tr th:only-of-type {\n",
       "        vertical-align: middle;\n",
       "    }\n",
       "\n",
       "    .dataframe tbody tr th {\n",
       "        vertical-align: top;\n",
       "    }\n",
       "\n",
       "    .dataframe thead th {\n",
       "        text-align: right;\n",
       "    }\n",
       "</style>\n",
       "<table border=\"1\" class=\"dataframe\">\n",
       "  <thead>\n",
       "    <tr style=\"text-align: right;\">\n",
       "      <th></th>\n",
       "      <th>Overall rank</th>\n",
       "      <th>Score</th>\n",
       "      <th>GDP per capita</th>\n",
       "      <th>Social support</th>\n",
       "      <th>Healthy life expectancy</th>\n",
       "      <th>Freedom to make life choices</th>\n",
       "      <th>Generosity</th>\n",
       "      <th>Perceptions of corruption</th>\n",
       "    </tr>\n",
       "  </thead>\n",
       "  <tbody>\n",
       "    <tr>\n",
       "      <th>count</th>\n",
       "      <td>156.000000</td>\n",
       "      <td>156.000000</td>\n",
       "      <td>156.000000</td>\n",
       "      <td>156.000000</td>\n",
       "      <td>156.000000</td>\n",
       "      <td>156.000000</td>\n",
       "      <td>156.000000</td>\n",
       "      <td>156.000000</td>\n",
       "    </tr>\n",
       "    <tr>\n",
       "      <th>mean</th>\n",
       "      <td>78.500000</td>\n",
       "      <td>5.407096</td>\n",
       "      <td>0.905147</td>\n",
       "      <td>1.208814</td>\n",
       "      <td>0.725244</td>\n",
       "      <td>0.392571</td>\n",
       "      <td>0.184846</td>\n",
       "      <td>0.110603</td>\n",
       "    </tr>\n",
       "    <tr>\n",
       "      <th>std</th>\n",
       "      <td>45.177428</td>\n",
       "      <td>1.113120</td>\n",
       "      <td>0.398389</td>\n",
       "      <td>0.299191</td>\n",
       "      <td>0.242124</td>\n",
       "      <td>0.143289</td>\n",
       "      <td>0.095254</td>\n",
       "      <td>0.094538</td>\n",
       "    </tr>\n",
       "    <tr>\n",
       "      <th>min</th>\n",
       "      <td>1.000000</td>\n",
       "      <td>2.853000</td>\n",
       "      <td>0.000000</td>\n",
       "      <td>0.000000</td>\n",
       "      <td>0.000000</td>\n",
       "      <td>0.000000</td>\n",
       "      <td>0.000000</td>\n",
       "      <td>0.000000</td>\n",
       "    </tr>\n",
       "    <tr>\n",
       "      <th>25%</th>\n",
       "      <td>39.750000</td>\n",
       "      <td>4.544500</td>\n",
       "      <td>0.602750</td>\n",
       "      <td>1.055750</td>\n",
       "      <td>0.547750</td>\n",
       "      <td>0.308000</td>\n",
       "      <td>0.108750</td>\n",
       "      <td>0.047000</td>\n",
       "    </tr>\n",
       "    <tr>\n",
       "      <th>50%</th>\n",
       "      <td>78.500000</td>\n",
       "      <td>5.379500</td>\n",
       "      <td>0.960000</td>\n",
       "      <td>1.271500</td>\n",
       "      <td>0.789000</td>\n",
       "      <td>0.417000</td>\n",
       "      <td>0.177500</td>\n",
       "      <td>0.085500</td>\n",
       "    </tr>\n",
       "    <tr>\n",
       "      <th>75%</th>\n",
       "      <td>117.250000</td>\n",
       "      <td>6.184500</td>\n",
       "      <td>1.232500</td>\n",
       "      <td>1.452500</td>\n",
       "      <td>0.881750</td>\n",
       "      <td>0.507250</td>\n",
       "      <td>0.248250</td>\n",
       "      <td>0.141250</td>\n",
       "    </tr>\n",
       "    <tr>\n",
       "      <th>max</th>\n",
       "      <td>156.000000</td>\n",
       "      <td>7.769000</td>\n",
       "      <td>1.684000</td>\n",
       "      <td>1.624000</td>\n",
       "      <td>1.141000</td>\n",
       "      <td>0.631000</td>\n",
       "      <td>0.566000</td>\n",
       "      <td>0.453000</td>\n",
       "    </tr>\n",
       "  </tbody>\n",
       "</table>\n",
       "</div>"
      ],
      "text/plain": [
       "       Overall rank       Score  GDP per capita  Social support  \\\n",
       "count    156.000000  156.000000      156.000000      156.000000   \n",
       "mean      78.500000    5.407096        0.905147        1.208814   \n",
       "std       45.177428    1.113120        0.398389        0.299191   \n",
       "min        1.000000    2.853000        0.000000        0.000000   \n",
       "25%       39.750000    4.544500        0.602750        1.055750   \n",
       "50%       78.500000    5.379500        0.960000        1.271500   \n",
       "75%      117.250000    6.184500        1.232500        1.452500   \n",
       "max      156.000000    7.769000        1.684000        1.624000   \n",
       "\n",
       "       Healthy life expectancy  Freedom to make life choices  Generosity  \\\n",
       "count               156.000000                    156.000000  156.000000   \n",
       "mean                  0.725244                      0.392571    0.184846   \n",
       "std                   0.242124                      0.143289    0.095254   \n",
       "min                   0.000000                      0.000000    0.000000   \n",
       "25%                   0.547750                      0.308000    0.108750   \n",
       "50%                   0.789000                      0.417000    0.177500   \n",
       "75%                   0.881750                      0.507250    0.248250   \n",
       "max                   1.141000                      0.631000    0.566000   \n",
       "\n",
       "       Perceptions of corruption  \n",
       "count                 156.000000  \n",
       "mean                    0.110603  \n",
       "std                     0.094538  \n",
       "min                     0.000000  \n",
       "25%                     0.047000  \n",
       "50%                     0.085500  \n",
       "75%                     0.141250  \n",
       "max                     0.453000  "
      ]
     },
     "execution_count": 405,
     "metadata": {},
     "output_type": "execute_result"
    }
   ],
   "source": [
    "data.describe() "
   ]
  },
  {
   "attachments": {},
   "cell_type": "markdown",
   "metadata": {},
   "source": [
    "In our project, we will investigate three features of this data: <br>\n",
    "1. Score\n",
    "2. GDP per capita\n",
    "3. Perceptions of corruption <br>\n",
    "\n",
    "We will investigate the impact of the <i>\"GDP per capita\"</i> feature and the <i>\"Perceptions of corruption\"</i> feature on the happiness score in Europe and Africa.<br> \n",
    "As we can see above, we have no null values, and all the features we will refer to are of type float64. Therefore we can proceed to the Descriptive statistics overview. "
   ]
  },
  {
   "cell_type": "code",
   "execution_count": 406,
   "metadata": {},
   "outputs": [],
   "source": [
    "# creating a dataframe which contains only our three needed features\n",
    "filtered_data = data[[\"Country or region\",\"Score\",\"GDP per capita\",\"Perceptions of corruption\"]].copy()"
   ]
  },
  {
   "cell_type": "code",
   "execution_count": 407,
   "metadata": {},
   "outputs": [
    {
     "data": {
      "text/html": [
       "<div>\n",
       "<style scoped>\n",
       "    .dataframe tbody tr th:only-of-type {\n",
       "        vertical-align: middle;\n",
       "    }\n",
       "\n",
       "    .dataframe tbody tr th {\n",
       "        vertical-align: top;\n",
       "    }\n",
       "\n",
       "    .dataframe thead th {\n",
       "        text-align: right;\n",
       "    }\n",
       "</style>\n",
       "<table border=\"1\" class=\"dataframe\">\n",
       "  <thead>\n",
       "    <tr style=\"text-align: right;\">\n",
       "      <th></th>\n",
       "      <th>Score</th>\n",
       "      <th>GDP per capita</th>\n",
       "      <th>Perceptions of corruption</th>\n",
       "    </tr>\n",
       "  </thead>\n",
       "  <tbody>\n",
       "    <tr>\n",
       "      <th>count</th>\n",
       "      <td>156.000000</td>\n",
       "      <td>156.000000</td>\n",
       "      <td>156.000000</td>\n",
       "    </tr>\n",
       "    <tr>\n",
       "      <th>mean</th>\n",
       "      <td>5.407096</td>\n",
       "      <td>0.905147</td>\n",
       "      <td>0.110603</td>\n",
       "    </tr>\n",
       "    <tr>\n",
       "      <th>std</th>\n",
       "      <td>1.113120</td>\n",
       "      <td>0.398389</td>\n",
       "      <td>0.094538</td>\n",
       "    </tr>\n",
       "    <tr>\n",
       "      <th>min</th>\n",
       "      <td>2.853000</td>\n",
       "      <td>0.000000</td>\n",
       "      <td>0.000000</td>\n",
       "    </tr>\n",
       "    <tr>\n",
       "      <th>25%</th>\n",
       "      <td>4.544500</td>\n",
       "      <td>0.602750</td>\n",
       "      <td>0.047000</td>\n",
       "    </tr>\n",
       "    <tr>\n",
       "      <th>50%</th>\n",
       "      <td>5.379500</td>\n",
       "      <td>0.960000</td>\n",
       "      <td>0.085500</td>\n",
       "    </tr>\n",
       "    <tr>\n",
       "      <th>75%</th>\n",
       "      <td>6.184500</td>\n",
       "      <td>1.232500</td>\n",
       "      <td>0.141250</td>\n",
       "    </tr>\n",
       "    <tr>\n",
       "      <th>max</th>\n",
       "      <td>7.769000</td>\n",
       "      <td>1.684000</td>\n",
       "      <td>0.453000</td>\n",
       "    </tr>\n",
       "  </tbody>\n",
       "</table>\n",
       "</div>"
      ],
      "text/plain": [
       "            Score  GDP per capita  Perceptions of corruption\n",
       "count  156.000000      156.000000                 156.000000\n",
       "mean     5.407096        0.905147                   0.110603\n",
       "std      1.113120        0.398389                   0.094538\n",
       "min      2.853000        0.000000                   0.000000\n",
       "25%      4.544500        0.602750                   0.047000\n",
       "50%      5.379500        0.960000                   0.085500\n",
       "75%      6.184500        1.232500                   0.141250\n",
       "max      7.769000        1.684000                   0.453000"
      ]
     },
     "execution_count": 407,
     "metadata": {},
     "output_type": "execute_result"
    }
   ],
   "source": [
    "filtered_data.describe() "
   ]
  },
  {
   "attachments": {},
   "cell_type": "markdown",
   "metadata": {},
   "source": [
    "As we saw, our data contains 156 countries. We will refer to those 156 countries as our population. Based on that assumption, we could calculate the Mean value and the variance parameters of the population for those Three features.<br>\n",
    "For the needs of this course, we will assume a normal distribution for all features. We will test our hypothesis using Z-test, so the parameters we will be interested in are the Mean and the Variance. We will also look at the Median, Minimum and Maximum values for each feature to see the range of values we can expect."
   ]
  },
  {
   "attachments": {},
   "cell_type": "markdown",
   "metadata": {},
   "source": [
    "We know that the theoretical range of the score value is [0,10]. \n",
    "In practice, the range in 2019 was [2.85,7.77]. \n",
    "We could also see that the GDP per capita values are between [0,1.684] and the range of the Perceptions of corruption feature is\n",
    "[0,0.453].<br><br>"
   ]
  },
  {
   "attachments": {},
   "cell_type": "markdown",
   "metadata": {},
   "source": [
    "<h3>The next step would be to find out the outliers and decide how to deal with them:</h3>"
   ]
  },
  {
   "attachments": {},
   "cell_type": "markdown",
   "metadata": {},
   "source": [
    "The population happiness score feature: "
   ]
  },
  {
   "cell_type": "code",
   "execution_count": 408,
   "metadata": {},
   "outputs": [
    {
     "data": {
      "text/plain": [
       "<matplotlib.axes._subplots.AxesSubplot at 0x1b04d1a07c0>"
      ]
     },
     "execution_count": 408,
     "metadata": {},
     "output_type": "execute_result"
    },
    {
     "data": {
      "image/png": "[encoded data removed]",
      "text/plain": [
       "<Figure size 432x288 with 1 Axes>"
      ]
     },
     "metadata": {
      "needs_background": "light"
     },
     "output_type": "display_data"
    }
   ],
   "source": [
    "filtered_data.boxplot(column=[\"Score\"])"
   ]
  },
  {
   "attachments": {},
   "cell_type": "markdown",
   "metadata": {},
   "source": [
    "The population GDP per capita feature: "
   ]
  },
  {
   "cell_type": "code",
   "execution_count": 409,
   "metadata": {},
   "outputs": [
    {
     "data": {
      "text/plain": [
       "<matplotlib.axes._subplots.AxesSubplot at 0x1b0484e7fd0>"
      ]
     },
     "execution_count": 409,
     "metadata": {},
     "output_type": "execute_result"
    },
    {
     "data": {
      "image/png": "[encoded data removed]",
      "text/plain": [
       "<Figure size 432x288 with 1 Axes>"
      ]
     },
     "metadata": {
      "needs_background": "light"
     },
     "output_type": "display_data"
    }
   ],
   "source": [
    "filtered_data.boxplot(column=[\"GDP per capita\"])"
   ]
  },
  {
   "attachments": {},
   "cell_type": "markdown",
   "metadata": {},
   "source": [
    "The population Perceptions of corruption feature: "
   ]
  },
  {
   "cell_type": "code",
   "execution_count": 410,
   "metadata": {},
   "outputs": [
    {
     "data": {
      "text/plain": [
       "<matplotlib.axes._subplots.AxesSubplot at 0x1b04cb52c10>"
      ]
     },
     "execution_count": 410,
     "metadata": {},
     "output_type": "execute_result"
    },
    {
     "data": {
      "image/png": "[encoded data removed]",
      "text/plain": [
       "<Figure size 432x288 with 1 Axes>"
      ]
     },
     "metadata": {
      "needs_background": "light"
     },
     "output_type": "display_data"
    }
   ],
   "source": [
    "filtered_data.boxplot(column=[\"Perceptions of corruption\"])"
   ]
  },
  {
   "cell_type": "code",
   "execution_count": 411,
   "metadata": {},
   "outputs": [
    {
     "data": {
      "text/html": [
       "<div>\n",
       "<style scoped>\n",
       "    .dataframe tbody tr th:only-of-type {\n",
       "        vertical-align: middle;\n",
       "    }\n",
       "\n",
       "    .dataframe tbody tr th {\n",
       "        vertical-align: top;\n",
       "    }\n",
       "\n",
       "    .dataframe thead th {\n",
       "        text-align: right;\n",
       "    }\n",
       "</style>\n",
       "<table border=\"1\" class=\"dataframe\">\n",
       "  <thead>\n",
       "    <tr style=\"text-align: right;\">\n",
       "      <th></th>\n",
       "      <th>Country or region</th>\n",
       "      <th>Score</th>\n",
       "      <th>GDP per capita</th>\n",
       "      <th>Perceptions of corruption</th>\n",
       "    </tr>\n",
       "  </thead>\n",
       "  <tbody>\n",
       "    <tr>\n",
       "      <th>1</th>\n",
       "      <td>Denmark</td>\n",
       "      <td>7.600</td>\n",
       "      <td>1.383</td>\n",
       "      <td>0.410</td>\n",
       "    </tr>\n",
       "    <tr>\n",
       "      <th>33</th>\n",
       "      <td>Singapore</td>\n",
       "      <td>6.262</td>\n",
       "      <td>1.572</td>\n",
       "      <td>0.453</td>\n",
       "    </tr>\n",
       "    <tr>\n",
       "      <th>151</th>\n",
       "      <td>Rwanda</td>\n",
       "      <td>3.334</td>\n",
       "      <td>0.359</td>\n",
       "      <td>0.411</td>\n",
       "    </tr>\n",
       "  </tbody>\n",
       "</table>\n",
       "</div>"
      ],
      "text/plain": [
       "    Country or region  Score  GDP per capita  Perceptions of corruption\n",
       "1             Denmark  7.600           1.383                      0.410\n",
       "33          Singapore  6.262           1.572                      0.453\n",
       "151            Rwanda  3.334           0.359                      0.411"
      ]
     },
     "execution_count": 411,
     "metadata": {},
     "output_type": "execute_result"
    }
   ],
   "source": [
    "filtered_data[filtered_data[\"Perceptions of corruption\"]>0.4]"
   ]
  },
  {
   "attachments": {},
   "cell_type": "markdown",
   "metadata": {},
   "source": [
    "In the box plot above, it is evident that several countries have Perception of Corruption values exceeding the upper boundary of the graph. Upon closer examination, we observed two distinct clusters of countries in relation to this issue. One cluster is located near the top boundary, while the other cluster is situated further above with even higher values. Based on the data we have, it became apparent that they lack any connecting link. Additionally, these countries represent different regions of the world.\n",
    "\n",
    "Consequently, we have decided against deleting these countries altogether from the dataset. However, considering the potential bias their high values may introduce to our conclusions, we have opted for a more moderate approach. Specifically, we will selectively modify only the highest values (those greater than 0.4) to a standardized value of 0.4. By doing so, our aim is to ensure the integrity of our analysis while accounting for the influence of these outliers"
   ]
  },
  {
   "cell_type": "code",
   "execution_count": 412,
   "metadata": {},
   "outputs": [
    {
     "data": {
      "text/html": [
       "<div>\n",
       "<style scoped>\n",
       "    .dataframe tbody tr th:only-of-type {\n",
       "        vertical-align: middle;\n",
       "    }\n",
       "\n",
       "    .dataframe tbody tr th {\n",
       "        vertical-align: top;\n",
       "    }\n",
       "\n",
       "    .dataframe thead th {\n",
       "        text-align: right;\n",
       "    }\n",
       "</style>\n",
       "<table border=\"1\" class=\"dataframe\">\n",
       "  <thead>\n",
       "    <tr style=\"text-align: right;\">\n",
       "      <th></th>\n",
       "      <th>Country or region</th>\n",
       "      <th>Score</th>\n",
       "      <th>GDP per capita</th>\n",
       "      <th>Perceptions of corruption</th>\n",
       "    </tr>\n",
       "  </thead>\n",
       "  <tbody>\n",
       "  </tbody>\n",
       "</table>\n",
       "</div>"
      ],
      "text/plain": [
       "Empty DataFrame\n",
       "Columns: [Country or region, Score, GDP per capita, Perceptions of corruption]\n",
       "Index: []"
      ]
     },
     "execution_count": 412,
     "metadata": {},
     "output_type": "execute_result"
    }
   ],
   "source": [
    "Rows = list(filtered_data[filtered_data[\"Perceptions of corruption\"]>0.4].index)\n",
    "filtered_data.loc[Rows, 'Perceptions of corruption'] = 0.4\n",
    "filtered_data[filtered_data[\"Perceptions of corruption\"]>0.4]"
   ]
  },
  {
   "attachments": {},
   "cell_type": "markdown",
   "metadata": {},
   "source": [
    "# Deeper investigation of our study objects - Africa and Europe:"
   ]
  },
  {
   "attachments": {},
   "cell_type": "markdown",
   "metadata": {},
   "source": [
    "In our research, we will compare the values separately between Europe and Africa, and we'll not make a comparison between the different features. Therefore, we decided there would be no need to normalize the data."
   ]
  },
  {
   "attachments": {},
   "cell_type": "markdown",
   "metadata": {},
   "source": [
    "Since we will compare between two continents only, Europe and Africa, we will want to isolate only the European and African countries.<br>\n",
    "\n",
    "We used ChatGPT to create a separation between the continents by creating a list containing European countries and a list of all African countries. According to this division, we will divide and filter our data:"
   ]
  },
  {
   "cell_type": "code",
   "execution_count": 413,
   "metadata": {},
   "outputs": [
    {
     "name": "stdout",
     "output_type": "stream",
     "text": [
      "Amount of European countries: 45\n",
      "Amount of African countries: 42\n"
     ]
    }
   ],
   "source": [
    "continents = pd.read_csv(\"europe_and_africa_countries_new.csv\")\n",
    "filtered_data[\"Continent\"] = \"None\"\n",
    "filtered_data[\"Continent\"].loc[filtered_data['Country or region'].isin(list(continents[\"Europe\"]))] = \"EU\"\n",
    "filtered_data[\"Continent\"].loc[filtered_data['Country or region'].isin(list(continents[\"Africa\"]))] = \"AF\"\n",
    "filtered_df = filtered_data[(filtered_data['Continent'] == \"EU\") | (filtered_data['Continent'] == \"AF\")].copy()\n",
    "\n",
    "print(\"Amount of European countries:\", str((filtered_df['Continent'] == \"EU\").sum()))\n",
    "print(\"Amount of African countries:\", str((filtered_df['Continent'] == \"AF\").sum()))\n",
    "\n"
   ]
  },
  {
   "attachments": {},
   "cell_type": "markdown",
   "metadata": {},
   "source": [
    "We will explore Europe countries data:"
   ]
  },
  {
   "cell_type": "code",
   "execution_count": 414,
   "metadata": {},
   "outputs": [
    {
     "data": {
      "text/html": [
       "<div>\n",
       "<style scoped>\n",
       "    .dataframe tbody tr th:only-of-type {\n",
       "        vertical-align: middle;\n",
       "    }\n",
       "\n",
       "    .dataframe tbody tr th {\n",
       "        vertical-align: top;\n",
       "    }\n",
       "\n",
       "    .dataframe thead th {\n",
       "        text-align: right;\n",
       "    }\n",
       "</style>\n",
       "<table border=\"1\" class=\"dataframe\">\n",
       "  <thead>\n",
       "    <tr style=\"text-align: right;\">\n",
       "      <th></th>\n",
       "      <th>Score</th>\n",
       "      <th>GDP per capita</th>\n",
       "      <th>Perceptions of corruption</th>\n",
       "    </tr>\n",
       "  </thead>\n",
       "  <tbody>\n",
       "    <tr>\n",
       "      <th>count</th>\n",
       "      <td>45.000000</td>\n",
       "      <td>45.000000</td>\n",
       "      <td>45.000000</td>\n",
       "    </tr>\n",
       "    <tr>\n",
       "      <th>mean</th>\n",
       "      <td>6.192533</td>\n",
       "      <td>1.210644</td>\n",
       "      <td>0.130444</td>\n",
       "    </tr>\n",
       "    <tr>\n",
       "      <th>std</th>\n",
       "      <td>0.881949</td>\n",
       "      <td>0.193094</td>\n",
       "      <td>0.124774</td>\n",
       "    </tr>\n",
       "    <tr>\n",
       "      <th>min</th>\n",
       "      <td>4.332000</td>\n",
       "      <td>0.685000</td>\n",
       "      <td>0.000000</td>\n",
       "    </tr>\n",
       "    <tr>\n",
       "      <th>25%</th>\n",
       "      <td>5.529000</td>\n",
       "      <td>1.155000</td>\n",
       "      <td>0.031000</td>\n",
       "    </tr>\n",
       "    <tr>\n",
       "      <th>50%</th>\n",
       "      <td>6.100000</td>\n",
       "      <td>1.238000</td>\n",
       "      <td>0.079000</td>\n",
       "    </tr>\n",
       "    <tr>\n",
       "      <th>75%</th>\n",
       "      <td>6.985000</td>\n",
       "      <td>1.340000</td>\n",
       "      <td>0.210000</td>\n",
       "    </tr>\n",
       "    <tr>\n",
       "      <th>max</th>\n",
       "      <td>7.769000</td>\n",
       "      <td>1.609000</td>\n",
       "      <td>0.400000</td>\n",
       "    </tr>\n",
       "  </tbody>\n",
       "</table>\n",
       "</div>"
      ],
      "text/plain": [
       "           Score  GDP per capita  Perceptions of corruption\n",
       "count  45.000000       45.000000                  45.000000\n",
       "mean    6.192533        1.210644                   0.130444\n",
       "std     0.881949        0.193094                   0.124774\n",
       "min     4.332000        0.685000                   0.000000\n",
       "25%     5.529000        1.155000                   0.031000\n",
       "50%     6.100000        1.238000                   0.079000\n",
       "75%     6.985000        1.340000                   0.210000\n",
       "max     7.769000        1.609000                   0.400000"
      ]
     },
     "execution_count": 414,
     "metadata": {},
     "output_type": "execute_result"
    }
   ],
   "source": [
    "#Europe data\n",
    "filtered_df.loc[filtered_data['Country or region'].isin(list(continents[\"Europe\"]))].describe() "
   ]
  },
  {
   "cell_type": "code",
   "execution_count": 415,
   "metadata": {},
   "outputs": [
    {
     "data": {
      "image/png": "[encoded data removed]",
      "text/plain": [
       "<Figure size 504x504 with 4 Axes>"
      ]
     },
     "metadata": {
      "needs_background": "light"
     },
     "output_type": "display_data"
    }
   ],
   "source": [
    "filtered_df.loc[filtered_data['Country or region'].isin(list(continents[\"Europe\"]))].hist(figsize=(7,7)) \n",
    "warnings.filterwarnings(\"ignore\")"
   ]
  },
  {
   "attachments": {},
   "cell_type": "markdown",
   "metadata": {},
   "source": [
    "when looking at those histograms, we noticed that the Perception of Corruption distribution does not look close to a normal distribution. \n",
    "We can see that at least 75% of the European countries have a Perception of Corruption value lower or equal to 0.21. This value equals almost half of the max score for this feature.<br> \n",
    "However, for the purposes of this course only, we will still do the hypothesis tests under a normal distribution assumption. "
   ]
  },
  {
   "attachments": {},
   "cell_type": "markdown",
   "metadata": {},
   "source": [
    "We will do the same process for the African countries:"
   ]
  },
  {
   "cell_type": "code",
   "execution_count": 416,
   "metadata": {},
   "outputs": [
    {
     "data": {
      "text/html": [
       "<div>\n",
       "<style scoped>\n",
       "    .dataframe tbody tr th:only-of-type {\n",
       "        vertical-align: middle;\n",
       "    }\n",
       "\n",
       "    .dataframe tbody tr th {\n",
       "        vertical-align: top;\n",
       "    }\n",
       "\n",
       "    .dataframe thead th {\n",
       "        text-align: right;\n",
       "    }\n",
       "</style>\n",
       "<table border=\"1\" class=\"dataframe\">\n",
       "  <thead>\n",
       "    <tr style=\"text-align: right;\">\n",
       "      <th></th>\n",
       "      <th>Score</th>\n",
       "      <th>GDP per capita</th>\n",
       "      <th>Perceptions of corruption</th>\n",
       "    </tr>\n",
       "  </thead>\n",
       "  <tbody>\n",
       "    <tr>\n",
       "      <th>count</th>\n",
       "      <td>42.000000</td>\n",
       "      <td>42.000000</td>\n",
       "      <td>42.000000</td>\n",
       "    </tr>\n",
       "    <tr>\n",
       "      <th>mean</th>\n",
       "      <td>4.378595</td>\n",
       "      <td>0.478905</td>\n",
       "      <td>0.093833</td>\n",
       "    </tr>\n",
       "    <tr>\n",
       "      <th>std</th>\n",
       "      <td>0.636010</td>\n",
       "      <td>0.301202</td>\n",
       "      <td>0.067111</td>\n",
       "    </tr>\n",
       "    <tr>\n",
       "      <th>min</th>\n",
       "      <td>2.853000</td>\n",
       "      <td>0.000000</td>\n",
       "      <td>0.033000</td>\n",
       "    </tr>\n",
       "    <tr>\n",
       "      <th>25%</th>\n",
       "      <td>4.090500</td>\n",
       "      <td>0.282750</td>\n",
       "      <td>0.055000</td>\n",
       "    </tr>\n",
       "    <tr>\n",
       "      <th>50%</th>\n",
       "      <td>4.463500</td>\n",
       "      <td>0.389000</td>\n",
       "      <td>0.083500</td>\n",
       "    </tr>\n",
       "    <tr>\n",
       "      <th>75%</th>\n",
       "      <td>4.711750</td>\n",
       "      <td>0.657500</td>\n",
       "      <td>0.098250</td>\n",
       "    </tr>\n",
       "    <tr>\n",
       "      <th>max</th>\n",
       "      <td>5.888000</td>\n",
       "      <td>1.120000</td>\n",
       "      <td>0.400000</td>\n",
       "    </tr>\n",
       "  </tbody>\n",
       "</table>\n",
       "</div>"
      ],
      "text/plain": [
       "           Score  GDP per capita  Perceptions of corruption\n",
       "count  42.000000       42.000000                  42.000000\n",
       "mean    4.378595        0.478905                   0.093833\n",
       "std     0.636010        0.301202                   0.067111\n",
       "min     2.853000        0.000000                   0.033000\n",
       "25%     4.090500        0.282750                   0.055000\n",
       "50%     4.463500        0.389000                   0.083500\n",
       "75%     4.711750        0.657500                   0.098250\n",
       "max     5.888000        1.120000                   0.400000"
      ]
     },
     "execution_count": 416,
     "metadata": {},
     "output_type": "execute_result"
    }
   ],
   "source": [
    "filtered_df.loc[filtered_data['Country or region'].isin(list(continents[\"Africa\"]))].describe() "
   ]
  },
  {
   "cell_type": "code",
   "execution_count": 417,
   "metadata": {},
   "outputs": [
    {
     "data": {
      "image/png": "[encoded data removed]",
      "text/plain": [
       "<Figure size 504x504 with 4 Axes>"
      ]
     },
     "metadata": {
      "needs_background": "light"
     },
     "output_type": "display_data"
    }
   ],
   "source": [
    "filtered_df.loc[filtered_data['Country or region'].isin(list(continents[\"Africa\"]))].hist(figsize=(7,7)) \n",
    "warnings.filterwarnings(\"ignore\")"
   ]
  },
  {
   "attachments": {},
   "cell_type": "markdown",
   "metadata": {},
   "source": [
    "We recognized the same pattern for the Perception of Corruption feature for the African countries, but in a more extreme manner. Here we can see that more than 75% of African countries have a Perception of Corruption value lower or equal to 0.098. This value equals almost half of the max score for this feature in both, African and European countries.<br>\n",
    "\n",
    "For African countries, also the GDP per Capita feature does not look close to the shape of a normal distribution. Yet, for the purposes of this course only, we will check our assumptions for both features under the assumption of a normal distribution."
   ]
  },
  {
   "attachments": {},
   "cell_type": "markdown",
   "metadata": {},
   "source": [
    "After Exploring the data descriptive values, and before performing our hypothesis test, we wanted to compare btween the two populations visually. In this opportunity, we will also take care of outliers in the continents to prevent any bias. We will look separately on each on of the chosen features: "
   ]
  },
  {
   "attachments": {},
   "cell_type": "markdown",
   "metadata": {},
   "source": [
    "<h3>Happiness Score</>"
   ]
  },
  {
   "cell_type": "code",
   "execution_count": 418,
   "metadata": {},
   "outputs": [
    {
     "data": {
      "text/plain": [
       "<matplotlib.axes._subplots.AxesSubplot at 0x1b04e47b2e0>"
      ]
     },
     "execution_count": 418,
     "metadata": {},
     "output_type": "execute_result"
    },
    {
     "data": {
      "image/png": "[encoded data removed]",
      "text/plain": [
       "<Figure size 432x288 with 1 Axes>"
      ]
     },
     "metadata": {
      "needs_background": "light"
     },
     "output_type": "display_data"
    }
   ],
   "source": [
    "sns.boxplot(data=filtered_df, x=\"Score\", y=\"Continent\")"
   ]
  },
  {
   "attachments": {},
   "cell_type": "markdown",
   "metadata": {},
   "source": [
    "Finding the outliers"
   ]
  },
  {
   "cell_type": "code",
   "execution_count": 419,
   "metadata": {},
   "outputs": [
    {
     "data": {
      "text/html": [
       "<div>\n",
       "<style scoped>\n",
       "    .dataframe tbody tr th:only-of-type {\n",
       "        vertical-align: middle;\n",
       "    }\n",
       "\n",
       "    .dataframe tbody tr th {\n",
       "        vertical-align: top;\n",
       "    }\n",
       "\n",
       "    .dataframe thead th {\n",
       "        text-align: right;\n",
       "    }\n",
       "</style>\n",
       "<table border=\"1\" class=\"dataframe\">\n",
       "  <thead>\n",
       "    <tr style=\"text-align: right;\">\n",
       "      <th></th>\n",
       "      <th>Country or region</th>\n",
       "      <th>Score</th>\n",
       "      <th>Continent</th>\n",
       "    </tr>\n",
       "  </thead>\n",
       "  <tbody>\n",
       "    <tr>\n",
       "      <th>149</th>\n",
       "      <td>Malawi</td>\n",
       "      <td>3.410</td>\n",
       "      <td>AF</td>\n",
       "    </tr>\n",
       "    <tr>\n",
       "      <th>151</th>\n",
       "      <td>Rwanda</td>\n",
       "      <td>3.334</td>\n",
       "      <td>AF</td>\n",
       "    </tr>\n",
       "    <tr>\n",
       "      <th>152</th>\n",
       "      <td>Tanzania</td>\n",
       "      <td>3.231</td>\n",
       "      <td>AF</td>\n",
       "    </tr>\n",
       "    <tr>\n",
       "      <th>154</th>\n",
       "      <td>Central African Republic</td>\n",
       "      <td>3.083</td>\n",
       "      <td>AF</td>\n",
       "    </tr>\n",
       "    <tr>\n",
       "      <th>155</th>\n",
       "      <td>South Sudan</td>\n",
       "      <td>2.853</td>\n",
       "      <td>AF</td>\n",
       "    </tr>\n",
       "  </tbody>\n",
       "</table>\n",
       "</div>"
      ],
      "text/plain": [
       "            Country or region  Score Continent\n",
       "149                    Malawi  3.410        AF\n",
       "151                    Rwanda  3.334        AF\n",
       "152                  Tanzania  3.231        AF\n",
       "154  Central African Republic  3.083        AF\n",
       "155               South Sudan  2.853        AF"
      ]
     },
     "execution_count": 419,
     "metadata": {},
     "output_type": "execute_result"
    }
   ],
   "source": [
    "\n",
    "filtered_df[[\"Country or region\", \"Score\", \"Continent\"]][(filtered_df[\"Continent\"] == \"AF\") & (filtered_df[\"Score\"] < 3.5)]\n"
   ]
  },
  {
   "attachments": {},
   "cell_type": "markdown",
   "metadata": {},
   "source": [
    "As we can see, in our data, the lowest outlier scores are for South Sudan and the Central African Republic. <br>\n",
    "We investigated the possible causes and discovered that South Sudan suffered from a civil war that took the life of almost 600,000 people in 2018, only a year before this questionnaire took place. \n",
    "We also noticed that in earlier years South Sudan got a higher happiness score, which was close to the mean value of the happiness score in those years (2015-2017). \n",
    "When looking at Africa's history, civil wars are not a rare thing. Usually, there is a country under a condition of a civil war or government tension. This condition probably has a negative impact on the happiness score even if this situation does not represent the continent at this time. Therefore we will consider this high value as an outlier. We would want to reduce its impact but not cancel it entirely. \n",
    "\n",
    "As for the Central African Republic, we saw that its score was pretty stable over the years, and we didn't find any additional info that could explain those extremely low values. We decided not to change this value due to this consistency and see this value as a representative value for this feature. \n",
    "\n",
    "Due to the reasons mentioned above, we decided to convert any score below 3 to a value of 3."
   ]
  },
  {
   "cell_type": "code",
   "execution_count": 420,
   "metadata": {},
   "outputs": [
    {
     "data": {
      "text/html": [
       "<div>\n",
       "<style scoped>\n",
       "    .dataframe tbody tr th:only-of-type {\n",
       "        vertical-align: middle;\n",
       "    }\n",
       "\n",
       "    .dataframe tbody tr th {\n",
       "        vertical-align: top;\n",
       "    }\n",
       "\n",
       "    .dataframe thead th {\n",
       "        text-align: right;\n",
       "    }\n",
       "</style>\n",
       "<table border=\"1\" class=\"dataframe\">\n",
       "  <thead>\n",
       "    <tr style=\"text-align: right;\">\n",
       "      <th></th>\n",
       "      <th>Country or region</th>\n",
       "      <th>Score</th>\n",
       "      <th>GDP per capita</th>\n",
       "      <th>Perceptions of corruption</th>\n",
       "      <th>Continent</th>\n",
       "    </tr>\n",
       "  </thead>\n",
       "  <tbody>\n",
       "    <tr>\n",
       "      <th>155</th>\n",
       "      <td>South Sudan</td>\n",
       "      <td>3.0</td>\n",
       "      <td>0.306</td>\n",
       "      <td>0.091</td>\n",
       "      <td>AF</td>\n",
       "    </tr>\n",
       "  </tbody>\n",
       "</table>\n",
       "</div>"
      ],
      "text/plain": [
       "    Country or region  Score  GDP per capita  Perceptions of corruption  \\\n",
       "155       South Sudan    3.0           0.306                      0.091   \n",
       "\n",
       "    Continent  \n",
       "155        AF  "
      ]
     },
     "execution_count": 420,
     "metadata": {},
     "output_type": "execute_result"
    }
   ],
   "source": [
    "\n",
    "SS_Row = list(filtered_df[(filtered_df[\"Score\"]<3) & (filtered_df[\"Continent\"] == \"AF\")].index)\n",
    "filtered_df.loc[SS_Row, 'Score'] = 3\n",
    "filtered_df[filtered_df[\"Country or region\"]==\"South Sudan\"]\n"
   ]
  },
  {
   "cell_type": "code",
   "execution_count": 421,
   "metadata": {},
   "outputs": [
    {
     "data": {
      "text/html": [
       "<div>\n",
       "<style scoped>\n",
       "    .dataframe tbody tr th:only-of-type {\n",
       "        vertical-align: middle;\n",
       "    }\n",
       "\n",
       "    .dataframe tbody tr th {\n",
       "        vertical-align: top;\n",
       "    }\n",
       "\n",
       "    .dataframe thead th {\n",
       "        text-align: right;\n",
       "    }\n",
       "</style>\n",
       "<table border=\"1\" class=\"dataframe\">\n",
       "  <thead>\n",
       "    <tr style=\"text-align: right;\">\n",
       "      <th></th>\n",
       "      <th>Country or region</th>\n",
       "      <th>Score</th>\n",
       "      <th>Continent</th>\n",
       "    </tr>\n",
       "  </thead>\n",
       "  <tbody>\n",
       "    <tr>\n",
       "      <th>56</th>\n",
       "      <td>Mauritius</td>\n",
       "      <td>5.888</td>\n",
       "      <td>AF</td>\n",
       "    </tr>\n",
       "    <tr>\n",
       "      <th>71</th>\n",
       "      <td>Libya</td>\n",
       "      <td>5.525</td>\n",
       "      <td>AF</td>\n",
       "    </tr>\n",
       "  </tbody>\n",
       "</table>\n",
       "</div>"
      ],
      "text/plain": [
       "   Country or region  Score Continent\n",
       "56         Mauritius  5.888        AF\n",
       "71             Libya  5.525        AF"
      ]
     },
     "execution_count": 421,
     "metadata": {},
     "output_type": "execute_result"
    }
   ],
   "source": [
    "filtered_df[[\"Country or region\", \"Score\", \"Continent\"]][(filtered_df[\"Continent\"] == \"AF\") & (filtered_df[\"Score\"] > 5.5)]"
   ]
  },
  {
   "attachments": {},
   "cell_type": "markdown",
   "metadata": {},
   "source": [
    "When we look at the outliers on the right-hand side, we see that Mauritius has a very high happiness score. \n",
    "We discovered Mauritius is an island considered the only “true\" Democracy in Africa and is ranked considerably high in the democracy rank. Nevertheless, it is the richest country in Africa.\n",
    "In accordance with the unusual characteristics of this country compared to African countries, we decided to exclude this country from the African countries list in the context of the happiness score."
   ]
  },
  {
   "cell_type": "code",
   "execution_count": 422,
   "metadata": {},
   "outputs": [],
   "source": [
    "Mauritius_Row = list(filtered_df[filtered_df[\"Country or region\"]==\"Mauritius\"].index)\n",
    "filtered_df = filtered_df.drop(Mauritius_Row)"
   ]
  },
  {
   "attachments": {},
   "cell_type": "markdown",
   "metadata": {},
   "source": [
    "As for the direction of our hypothesis, we can see in the graphs that Europe's median is higher than Africa's median, which supports our hypothesis that suggests the Happiness score will be higher in Europe than in Africa. "
   ]
  },
  {
   "attachments": {},
   "cell_type": "markdown",
   "metadata": {},
   "source": [
    "<h3>GDP per Capita</>"
   ]
  },
  {
   "cell_type": "code",
   "execution_count": 423,
   "metadata": {},
   "outputs": [
    {
     "data": {
      "text/plain": [
       "<matplotlib.axes._subplots.AxesSubplot at 0x1b04e4e7d30>"
      ]
     },
     "execution_count": 423,
     "metadata": {},
     "output_type": "execute_result"
    },
    {
     "data": {
      "image/png": "[encoded data removed]",
      "text/plain": [
       "<Figure size 432x288 with 1 Axes>"
      ]
     },
     "metadata": {
      "needs_background": "light"
     },
     "output_type": "display_data"
    }
   ],
   "source": [
    "sns.boxplot(data=filtered_df, x=\"GDP per capita\", y=\"Continent\")"
   ]
  },
  {
   "attachments": {},
   "cell_type": "markdown",
   "metadata": {},
   "source": [
    "Finding the outliers"
   ]
  },
  {
   "cell_type": "code",
   "execution_count": 424,
   "metadata": {},
   "outputs": [
    {
     "data": {
      "text/html": [
       "<div>\n",
       "<style scoped>\n",
       "    .dataframe tbody tr th:only-of-type {\n",
       "        vertical-align: middle;\n",
       "    }\n",
       "\n",
       "    .dataframe tbody tr th {\n",
       "        vertical-align: top;\n",
       "    }\n",
       "\n",
       "    .dataframe thead th {\n",
       "        text-align: right;\n",
       "    }\n",
       "</style>\n",
       "<table border=\"1\" class=\"dataframe\">\n",
       "  <thead>\n",
       "    <tr style=\"text-align: right;\">\n",
       "      <th></th>\n",
       "      <th>Country or region</th>\n",
       "      <th>GDP per capita</th>\n",
       "      <th>Continent</th>\n",
       "    </tr>\n",
       "  </thead>\n",
       "  <tbody>\n",
       "    <tr>\n",
       "      <th>45</th>\n",
       "      <td>Kosovo</td>\n",
       "      <td>0.882</td>\n",
       "      <td>EU</td>\n",
       "    </tr>\n",
       "    <tr>\n",
       "      <th>70</th>\n",
       "      <td>Moldova</td>\n",
       "      <td>0.685</td>\n",
       "      <td>EU</td>\n",
       "    </tr>\n",
       "    <tr>\n",
       "      <th>77</th>\n",
       "      <td>Bosnia and Herzegovina</td>\n",
       "      <td>0.945</td>\n",
       "      <td>EU</td>\n",
       "    </tr>\n",
       "    <tr>\n",
       "      <th>83</th>\n",
       "      <td>North Macedonia</td>\n",
       "      <td>0.983</td>\n",
       "      <td>EU</td>\n",
       "    </tr>\n",
       "    <tr>\n",
       "      <th>106</th>\n",
       "      <td>Albania</td>\n",
       "      <td>0.947</td>\n",
       "      <td>EU</td>\n",
       "    </tr>\n",
       "    <tr>\n",
       "      <th>115</th>\n",
       "      <td>Armenia</td>\n",
       "      <td>0.850</td>\n",
       "      <td>EU</td>\n",
       "    </tr>\n",
       "    <tr>\n",
       "      <th>132</th>\n",
       "      <td>Ukraine</td>\n",
       "      <td>0.820</td>\n",
       "      <td>EU</td>\n",
       "    </tr>\n",
       "  </tbody>\n",
       "</table>\n",
       "</div>"
      ],
      "text/plain": [
       "          Country or region  GDP per capita Continent\n",
       "45                   Kosovo           0.882        EU\n",
       "70                  Moldova           0.685        EU\n",
       "77   Bosnia and Herzegovina           0.945        EU\n",
       "83          North Macedonia           0.983        EU\n",
       "106                 Albania           0.947        EU\n",
       "115                 Armenia           0.850        EU\n",
       "132                 Ukraine           0.820        EU"
      ]
     },
     "execution_count": 424,
     "metadata": {},
     "output_type": "execute_result"
    }
   ],
   "source": [
    "filtered_df[[\"Country or region\", \"GDP per capita\", \"Continent\"]][(filtered_df[\"Continent\"] == \"EU\") & (filtered_df[\"GDP per capita\"] < 1)]"
   ]
  },
  {
   "attachments": {},
   "cell_type": "markdown",
   "metadata": {},
   "source": [
    "We decide not to exclude any outliers in this column. We saw that the GDP per Capita score remained relatively constant for all three countries over the earlier years (2015-2018). In addition, the difference between the outliers and the last sample that was in the \"normal range\" is not very significant. so we won't consider it as an abnormal value and we will not exlude any of them."
   ]
  },
  {
   "attachments": {},
   "cell_type": "markdown",
   "metadata": {},
   "source": [
    "As for the direction of our hypothesis, we can see in the graphs that Europe's median is higher than Africa's median. This data looks \n",
    "opposite to our hypothesis, which suggests that the GDP per Capita score will be lower in Europe than in Africa. "
   ]
  },
  {
   "attachments": {},
   "cell_type": "markdown",
   "metadata": {},
   "source": [
    "<h3>Perceptions of corruption</>"
   ]
  },
  {
   "cell_type": "code",
   "execution_count": 425,
   "metadata": {},
   "outputs": [
    {
     "data": {
      "text/plain": [
       "<matplotlib.axes._subplots.AxesSubplot at 0x1b04e55d430>"
      ]
     },
     "execution_count": 425,
     "metadata": {},
     "output_type": "execute_result"
    },
    {
     "data": {
      "image/png": "[encoded data removed]",
      "text/plain": [
       "<Figure size 432x288 with 1 Axes>"
      ]
     },
     "metadata": {
      "needs_background": "light"
     },
     "output_type": "display_data"
    }
   ],
   "source": [
    "sns.boxplot(data=filtered_df, x=\"Perceptions of corruption\", y=\"Continent\")\n"
   ]
  },
  {
   "attachments": {},
   "cell_type": "markdown",
   "metadata": {},
   "source": [
    "Finding the outliers"
   ]
  },
  {
   "cell_type": "code",
   "execution_count": 426,
   "metadata": {},
   "outputs": [
    {
     "data": {
      "text/html": [
       "<div>\n",
       "<style scoped>\n",
       "    .dataframe tbody tr th:only-of-type {\n",
       "        vertical-align: middle;\n",
       "    }\n",
       "\n",
       "    .dataframe tbody tr th {\n",
       "        vertical-align: top;\n",
       "    }\n",
       "\n",
       "    .dataframe thead th {\n",
       "        text-align: right;\n",
       "    }\n",
       "</style>\n",
       "<table border=\"1\" class=\"dataframe\">\n",
       "  <thead>\n",
       "    <tr style=\"text-align: right;\">\n",
       "      <th></th>\n",
       "      <th>Country or region</th>\n",
       "      <th>Perceptions of corruption</th>\n",
       "      <th>Continent</th>\n",
       "    </tr>\n",
       "  </thead>\n",
       "  <tbody>\n",
       "    <tr>\n",
       "      <th>71</th>\n",
       "      <td>Libya</td>\n",
       "      <td>0.152</td>\n",
       "      <td>AF</td>\n",
       "    </tr>\n",
       "    <tr>\n",
       "      <th>111</th>\n",
       "      <td>Somalia</td>\n",
       "      <td>0.270</td>\n",
       "      <td>AF</td>\n",
       "    </tr>\n",
       "    <tr>\n",
       "      <th>119</th>\n",
       "      <td>Gambia</td>\n",
       "      <td>0.167</td>\n",
       "      <td>AF</td>\n",
       "    </tr>\n",
       "    <tr>\n",
       "      <th>144</th>\n",
       "      <td>Burundi</td>\n",
       "      <td>0.180</td>\n",
       "      <td>AF</td>\n",
       "    </tr>\n",
       "    <tr>\n",
       "      <th>151</th>\n",
       "      <td>Rwanda</td>\n",
       "      <td>0.400</td>\n",
       "      <td>AF</td>\n",
       "    </tr>\n",
       "  </tbody>\n",
       "</table>\n",
       "</div>"
      ],
      "text/plain": [
       "    Country or region  Perceptions of corruption Continent\n",
       "71              Libya                      0.152        AF\n",
       "111           Somalia                      0.270        AF\n",
       "119            Gambia                      0.167        AF\n",
       "144           Burundi                      0.180        AF\n",
       "151            Rwanda                      0.400        AF"
      ]
     },
     "execution_count": 426,
     "metadata": {},
     "output_type": "execute_result"
    }
   ],
   "source": [
    "filtered_df[[\"Country or region\", \"Perceptions of corruption\", \"Continent\"]][(filtered_df[\"Continent\"] == \"AF\") & (filtered_df[\"Perceptions of corruption\"] > 0.15)]"
   ]
  },
  {
   "attachments": {},
   "cell_type": "markdown",
   "metadata": {},
   "source": [
    "We can see that out of the four outliers, there are only two extreme ones in this data - Somalia and Rwanda. We couldn't ignore the fact that both of those countries values are much bigger (double and almost double) than the last value we didn't consider as an outlier in the graph. Those two countries have suffered from civil wars and unstable governments. For the same reason we mentioned in the GDP per Capita section, we wouldn't want to fully cancel those extreme values impact on the data, but only to reduce it. We decided to convert any \"Perceptions of corruption\" value greater than 0.2 to the value of 0.2, which is a bit higher than the highest value we didn't consider as an outlier."
   ]
  },
  {
   "cell_type": "code",
   "execution_count": 427,
   "metadata": {},
   "outputs": [
    {
     "data": {
      "text/html": [
       "<div>\n",
       "<style scoped>\n",
       "    .dataframe tbody tr th:only-of-type {\n",
       "        vertical-align: middle;\n",
       "    }\n",
       "\n",
       "    .dataframe tbody tr th {\n",
       "        vertical-align: top;\n",
       "    }\n",
       "\n",
       "    .dataframe thead th {\n",
       "        text-align: right;\n",
       "    }\n",
       "</style>\n",
       "<table border=\"1\" class=\"dataframe\">\n",
       "  <thead>\n",
       "    <tr style=\"text-align: right;\">\n",
       "      <th></th>\n",
       "      <th>Country or region</th>\n",
       "      <th>Score</th>\n",
       "      <th>GDP per capita</th>\n",
       "      <th>Perceptions of corruption</th>\n",
       "      <th>Continent</th>\n",
       "    </tr>\n",
       "  </thead>\n",
       "  <tbody>\n",
       "    <tr>\n",
       "      <th>111</th>\n",
       "      <td>Somalia</td>\n",
       "      <td>4.668</td>\n",
       "      <td>0.000</td>\n",
       "      <td>0.2</td>\n",
       "      <td>AF</td>\n",
       "    </tr>\n",
       "    <tr>\n",
       "      <th>151</th>\n",
       "      <td>Rwanda</td>\n",
       "      <td>3.334</td>\n",
       "      <td>0.359</td>\n",
       "      <td>0.2</td>\n",
       "      <td>AF</td>\n",
       "    </tr>\n",
       "  </tbody>\n",
       "</table>\n",
       "</div>"
      ],
      "text/plain": [
       "    Country or region  Score  GDP per capita  Perceptions of corruption  \\\n",
       "111           Somalia  4.668           0.000                        0.2   \n",
       "151            Rwanda  3.334           0.359                        0.2   \n",
       "\n",
       "    Continent  \n",
       "111        AF  \n",
       "151        AF  "
      ]
     },
     "execution_count": 427,
     "metadata": {},
     "output_type": "execute_result"
    }
   ],
   "source": [
    "SS_Row = list(filtered_df[(filtered_df[\"Perceptions of corruption\"]>0.2) & (filtered_df[\"Continent\"] == \"AF\")].index)\n",
    "filtered_df.loc[SS_Row, 'Perceptions of corruption'] = 0.2\n",
    "filtered_df[filtered_df[\"Perceptions of corruption\"]==0.2]"
   ]
  },
  {
   "attachments": {},
   "cell_type": "markdown",
   "metadata": {},
   "source": [
    "# Hypothesis Tests\n",
    "___"
   ]
  },
  {
   "attachments": {},
   "cell_type": "markdown",
   "metadata": {},
   "source": [
    "We will create a random sample of 30 countries from each Continent. Based on that, we will use the Central Limit Theorem and assume a normal <br> distribution of our three features - Score, GDP per Capita, and Perceptions of corruption. <br><br>\n",
    "As mentioned before, we referred to our full data as our population, so we could calculate the mean and variance parameters of the populations.\n",
    "Based on those assumptions, we will use Z-test for the difference in means of two Normal distributions (variances known)\n"
   ]
  },
  {
   "cell_type": "code",
   "execution_count": 428,
   "metadata": {},
   "outputs": [],
   "source": [
    "#calculating the population parameters of mean and variance - \n",
    "# we will refer to Europe and Africa as two independent populations, so we will calculate both parameters for each continent\n",
    "Europe_countries = filtered_df[filtered_df[\"Continent\"]==\"EU\"]\n",
    "Africa_countries = filtered_df[filtered_df[\"Continent\"]==\"AF\"]\n",
    "n_Europe=30\n",
    "n_Africa=30\n",
    "a = 0.05\n",
    "\n",
    "#taking a sample of 30 countries out of all European countries\n",
    "Europe_sample = (Europe_countries.sample(n=n_Europe,replace=True))\n",
    "Africa_sample = (Africa_countries.sample(n=n_Africa,replace=True))\n",
    "\n",
    "# Calculating the \"Score\" feature varience of the population in Europe and Africa\n",
    "Europe_score_var = np.var(Europe_countries[\"Score\"])\n",
    "Africa_score_var = np.var(Africa_countries[\"Score\"])\n",
    "\n",
    "# Calculating the \"GDP per capita\" feature varience of the population in Europe and Africa\n",
    "Europe_GDP_var = np.var(Europe_countries[\"GDP per capita\"])\n",
    "Africa_GDP_var = np.var(Africa_countries[\"GDP per capita\"])\n",
    "\n",
    "# Calculating the \"Perceptions of corruption\" feature varience of the population in Europe and Africa\n",
    "Europe_corruption_var = np.var(Europe_countries[\"Perceptions of corruption\"])\n",
    "Africa_corruption_var = np.var(Africa_countries[\"Perceptions of corruption\"])\n"
   ]
  },
  {
   "attachments": {},
   "cell_type": "markdown",
   "metadata": {},
   "source": [
    "<h3>Europe VS Africa - Happiness score</h3>"
   ]
  },
  {
   "attachments": {},
   "cell_type": "markdown",
   "metadata": {},
   "source": [
    "This study aims to determine if there is a statistically significant difference in the level of happiness between European countries and African countries, using a significance level of α = 0.05.<br><br>\n",
    "<b>Null Hypothesis:</b> There is no statistically significant difference in the level of happiness between European and African countries (μE - μA = 0).<br>\n",
    "<b>Alternative Hypothesis:</b> The level of happiness in European countries is statistically significantly greater than in African countries (μE - μA > 0)"
   ]
  },
  {
   "cell_type": "code",
   "execution_count": 429,
   "metadata": {},
   "outputs": [
    {
     "name": "stdout",
     "output_type": "stream",
     "text": [
      "Europe Score mean: 6.277299999999999\n",
      "Africa Score mean: 4.5157333333333325\n",
      "Z-score 9.207972193219357\n",
      "Z-Critiacal score 1.6448536269514722\n",
      "we will reject null hypothesis\n"
     ]
    }
   ],
   "source": [
    "# Calculating the \"Score\" feature sample mean value for Africa and Europe\n",
    "Europe_Score_mean = Europe_sample[\"Score\"].mean()\n",
    "print(f\"Europe Score mean: {Europe_Score_mean}\")\n",
    "Africa_Score_mean = Africa_sample[\"Score\"].mean()\n",
    "print(f\"Africa Score mean: {Africa_Score_mean}\")\n",
    "\n",
    "\n",
    "#culculating Z-score: \n",
    "Z_score_score = (Europe_Score_mean - Africa_Score_mean) / (math.sqrt((Europe_score_var/n_Europe)+(Africa_score_var/n_Africa)))\n",
    "\n",
    "#Calcilating Z-critical score. We will reject the null hypothesis if the Z-score will be greater than the Z-critical score.\n",
    "Z_critic_score = st.norm.ppf(1-a)\n",
    "\n",
    "print(f\"Z-score {Z_score_score}\")\n",
    "print(f\"Z-Critiacal score {Z_critic_score}\")\n",
    "\n",
    "#Making the decision of rejecting H0 or not: \n",
    "if Z_score_score>Z_critic_score:\n",
    "    print(\"we will reject null hypothesis\")\n",
    "else: print(\"we could not reject the null hypothesis\")\n",
    "\n",
    "\n",
    "\n"
   ]
  },
  {
   "attachments": {},
   "cell_type": "markdown",
   "metadata": {},
   "source": [
    "Based on the statistical test performed, at a significance level of α = 0.05, the null hypothesis that there is no statistically significant difference in the level of happiness between European and African countries (μE - μA = 0) is rejected in favor of the alternative hypothesis. The findings suggest that the level of happiness in European countries is statistically significantly greater than in African countries (μE - μA > 0)."
   ]
  },
  {
   "attachments": {},
   "cell_type": "markdown",
   "metadata": {},
   "source": [
    "<h3>Europe VS Africa -  GDP per capita feature impact on Happiness</h3>"
   ]
  },
  {
   "attachments": {},
   "cell_type": "markdown",
   "metadata": {},
   "source": [
    "This study aims to determine if there is a statistically significant difference in the effect of the GDP index (gross domestic product) on the happiness index between African countries and European countries, using a significance level of α = 0.05.<br><br>\n",
    "\n",
    "<b>Null Hypothesis:</b> There is no statistically significant difference in the effect of the GDP index on the happiness index between African countries and European countries. (μE - μA = 0) <br>\n",
    "<b>Alternative Hypothesis:</b> In European countries, there is a lower effect of the GDP index on the happiness index compared to African countries. (μE - μA < 0)"
   ]
  },
  {
   "cell_type": "code",
   "execution_count": 430,
   "metadata": {},
   "outputs": [
    {
     "name": "stdout",
     "output_type": "stream",
     "text": [
      "Europe's GDP mean: 1.2148333333333334\n",
      "Africa's GDP mean: 0.5761666666666668\n",
      "Z-score: 10.23076786614856\n",
      "Z-Critiacal score: -1.6448536269514729\n",
      "we could not reject the null hypothesis\n"
     ]
    }
   ],
   "source": [
    "# Calculating the \"GDP per capita\" feature sample mean value for Africa and Europe\n",
    "Europe_GDP_mean = Europe_sample[\"GDP per capita\"].mean()\n",
    "print(f\"Europe's GDP mean: {Europe_GDP_mean}\")\n",
    "Africa_GDP_mean = Africa_sample[\"GDP per capita\"].mean()\n",
    "print(f\"Africa's GDP mean: {Africa_GDP_mean}\")\n",
    "\n",
    "#culculating Z-score: \n",
    "Z_GDP = (Europe_GDP_mean - Africa_GDP_mean) / (math.sqrt((Europe_GDP_var/n_Europe)+(Africa_GDP_var/n_Africa)))\n",
    "\n",
    "#Calcilating Z-critical score. We will reject the null hypothesis if the Z-score will be smaller than the Z-critical score.\n",
    "Z_critic_GDP = st.norm.ppf(a)\n",
    "\n",
    "print(f\"Z-score: {Z_GDP}\")\n",
    "print(f\"Z-Critiacal score: {Z_critic_GDP}\")\n",
    "\n",
    "#Making the decision of rejecting H0 or not:\n",
    "if Z_GDP<Z_critic_GDP:\n",
    "    print(\"we will reject H0 hypothesis\")\n",
    "else: print(\"we could not reject the null hypothesis\")"
   ]
  },
  {
   "attachments": {},
   "cell_type": "markdown",
   "metadata": {},
   "source": [
    "The null hypothesis that there is no statistically significant difference in the effect of the GDP index on the happiness index between African countries and European countries (μE - μA = 0) cannot be rejected. The findings indicate that there is no evidence to support the alternative hypothesis suggesting a lower effect of the GDP index on the happiness index in European countries compared to African countries (μE - μA < 0). <br><br>\n",
    "In addition, it should be noted that the mean value of the happiness index in European countries appears to be higher than that of African countries, in the opposite direction from our research hypothesis. We would offer to investigate this direction in Follow-up studies."
   ]
  },
  {
   "attachments": {},
   "cell_type": "markdown",
   "metadata": {},
   "source": [
    "<h3>Europe VS Africa -  The Perception of Corruption's impact on Happiness</h3>"
   ]
  },
  {
   "attachments": {},
   "cell_type": "markdown",
   "metadata": {},
   "source": [
    "This study aims to determine if there is a statistically significant difference in the effect of the perception of corruption on the happiness score between European countries and African countries, using a significance level of α = 0.05.<br><br>\n",
    "\n",
    "<b>Null Hypothesis:</b> There is no statistically significant difference in the effect of the perception of corruption on the happiness score between European countries and African countries. (μE - μA = 0)<br>\n",
    "<b>Alternative Hypothesis:</b> In European countries, there is a greater effect of the perception of corruption on the happiness score compared to African countries. (μE - μA > 0) \n"
   ]
  },
  {
   "cell_type": "code",
   "execution_count": 431,
   "metadata": {},
   "outputs": [
    {
     "name": "stdout",
     "output_type": "stream",
     "text": [
      "Europe's corruption mean: 0.13916666666666663\n",
      "Africa's corruption mean: 0.07373333333333333\n",
      "Z-score: 2.7349567406127435\n",
      "Z-Critiacal score: 1.6448536269514722\n",
      "we will reject H0 hypothesis\n"
     ]
    }
   ],
   "source": [
    "# Calculating the \"Perceptions of corruption\" feature sample mean value for Africa and Europe\n",
    "Europ_corruption_mean = Europe_sample[\"Perceptions of corruption\"].mean()\n",
    "print(f\"Europe's corruption mean: {Europ_corruption_mean}\")\n",
    "Africa_corruption_mean = Africa_sample[\"Perceptions of corruption\"].mean()\n",
    "print(f\"Africa's corruption mean: {Africa_corruption_mean}\")\n",
    "\n",
    "#culculating Z-score: \n",
    "Z_corruption = (Europ_corruption_mean - Africa_corruption_mean) / (math.sqrt((Europe_corruption_var/n_Europe)+(Africa_corruption_var/n_Africa)))\n",
    "\n",
    "#Calcilating Z-critical score. We will reject the null hypothesis if the Z-score will be greater than the Z-critical score.\n",
    "Z_critic_corruption = st.norm.ppf(1-a)\n",
    "\n",
    "print(f\"Z-score: {Z_corruption}\")\n",
    "print(f\"Z-Critiacal score: {Z_critic_corruption}\")\n",
    "\n",
    "#Making the decision of rejecting H0 or not \n",
    "if Z_corruption>Z_critic_corruption:\n",
    "    print(\"we will reject H0 hypothesis\")\n",
    "else: print(\"we could not reject the null hypothesis\")"
   ]
  },
  {
   "attachments": {},
   "cell_type": "markdown",
   "metadata": {},
   "source": [
    "Based on the statistical test conducted at a significance level of α = 0.05, the null hypothesis that there is no statistically significant difference in the effect of the perception of corruption on the happiness score between European countries and African countries (μE - μA = 0) is rejected in favor of the alternative hypothesis. <br> \n",
    "The findings indicate that there is a statistically significant difference, with evidence supporting a greater effect of the perception of corruption on the happiness score in European countries compared to African countries (μE - μA > 0)."
   ]
  },
  {
   "attachments": {},
   "cell_type": "markdown",
   "metadata": {},
   "source": [
    "<h3>Summary</h3>"
   ]
  },
  {
   "attachments": {},
   "cell_type": "markdown",
   "metadata": {},
   "source": [
    "In conclusion, we were able to show statistically significant differences for two of our three hypotheses.\n",
    "According to the research we conducted, it seems that the level of happiness in European countries is statistically significantly higher than the level of happiness in African countries. Also, the impact of the perception of corruption on the happiness index is significantly higher in Europe than in Africa.\n",
    "Regarding the effect of the GDP per capita index on the happiness index, to our surprise we received results opposite to our hypothesis, meaning that it seems that the impact of this index in European countries on the happiness score is higher than its impact in African countries. Since we conducted a one-sided test following our hypothesis, we cannot conclude about the significance of this difference."
   ]
  }
 ],
 "metadata": {
  "kernelspec": {
   "display_name": "base",
   "language": "python",
   "name": "python3"
  },
  "language_info": {
   "codemirror_mode": {
    "name": "ipython",
    "version": 3
   },
   "file_extension": ".py",
   "mimetype": "text/x-python",
   "name": "python",
   "nbconvert_exporter": "python",
   "pygments_lexer": "ipython3",
   "version": "3.8.3"
  },
  "orig_nbformat": 4
 },
 "nbformat": 4,
 "nbformat_minor": 2
}
